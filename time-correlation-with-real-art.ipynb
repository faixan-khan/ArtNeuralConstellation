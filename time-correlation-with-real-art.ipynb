{
 "cells": [
  {
   "cell_type": "markdown",
   "id": "93a3eced",
   "metadata": {},
   "source": [
    "# Time correlation for real artworks from different models."
   ]
  },
  {
   "cell_type": "code",
   "execution_count": 1,
   "id": "8b8a0744",
   "metadata": {},
   "outputs": [],
   "source": [
    "from scipy.io import loadmat\n",
    "import re\n",
    "import numpy as np\n",
    "from sklearn.decomposition import PCA\n",
    "import pandas as pd\n",
    "from scipy.stats import pearsonr\n",
    "import pickle\n",
    "import os\n",
    "from pathlib import Path\n",
    "\n",
    "pd.set_option(\"display.max_rows\", None, \"display.max_columns\", None)"
   ]
  },
  {
   "cell_type": "code",
   "execution_count": 2,
   "id": "ae3af03b",
   "metadata": {},
   "outputs": [],
   "source": [
    "pruned_mat_file='/home/khanff/waga/WAGA/analyses_notebooks/datasets/processed/groundtruth_pruned.mat'\n",
    "mat_file = loadmat(pruned_mat_file)"
   ]
  },
  {
   "cell_type": "code",
   "execution_count": 3,
   "id": "04dcaccd",
   "metadata": {},
   "outputs": [],
   "source": [
    "years = []\n",
    "re_string = '[0-9][0-9][0-9][0-9]\\.'\n",
    "for m in mat_file['groundtruth_pruned'][0][0][0]:\n",
    "    text = re.findall(re_string, m[0][0])\n",
    "    if text != []:\n",
    "        year = int(text[0][:-1])\n",
    "        if year < 1400 or year > 2010:\n",
    "            years.append(np.nan)\n",
    "        else:\n",
    "            years.append(int(year))\n",
    "    else:\n",
    "        years.append(np.nan)\n",
    "years = np.array(years)"
   ]
  },
  {
   "cell_type": "code",
   "execution_count": 4,
   "id": "10726f30",
   "metadata": {},
   "outputs": [],
   "source": [
    "indexes = ~np.isnan(years)"
   ]
  },
  {
   "cell_type": "code",
   "execution_count": 5,
   "id": "75799ef8",
   "metadata": {},
   "outputs": [],
   "source": [
    "df_1k = pd.read_csv('./datasets/processed/combined_wofflins_real.csv')\n",
    "df_5k = pd.read_csv('./datasets/processed/real_wofflin_scores_combined_normalised.csv')\n",
    "combined = [df_1k, df_5k]\n",
    "df = pd.concat(combined)\n",
    "df['name'] = df['Input.image'].apply(lambda x: Path(x).name)\n",
    "files_im = [Path(f[0][0]).name for f in mat_file['groundtruth_pruned'][0][0][0]]\n",
    "real_indexes = [files_im.index(f) for f in df.name.values]"
   ]
  },
  {
   "cell_type": "code",
   "execution_count": 6,
   "id": "db7c5a24",
   "metadata": {},
   "outputs": [],
   "source": [
    "def get_principal_components(all_feats, n_components, verbose=False):\n",
    "    pca = PCA(n_components=n_components, svd_solver='full')\n",
    "    feats = pca.fit_transform(all_feats)\n",
    "    if verbose:\n",
    "        print(pca.explained_variance_ratio_)\n",
    "        print(np.cumsum(pca.explained_variance_ratio_))\n",
    "    return feats, len(pca.explained_variance_ratio_)\n",
    "\n",
    "def get_coefficients(feats, years, n_components, coefficient, file, verbose=False):\n",
    "    pc, components = get_principal_components(feats, n_components, verbose=verbose)\n",
    "    components_to_return = components\n",
    "    components = min(components, 30)\n",
    "    if verbose:\n",
    "        print(f\"{components} components required\")\n",
    "    \n",
    "    for c in range(components):\n",
    "        coefficients.setdefault(file,[]).append(pearsonr(years, pc[:, c])[0])\n",
    "#         p_values.setdefault(file,[]).append(pearsonr(years, pc[:, c])[1])\n",
    "    return pd.DataFrame(coefficients), components_to_return"
   ]
  },
  {
   "cell_type": "code",
   "execution_count": 7,
   "id": "e0add8d5",
   "metadata": {},
   "outputs": [],
   "source": [
    "def get_r(a):\n",
    "    rho = np.sqrt(a[0]**2 + a[-1]**2)\n",
    "    return rho\n",
    "\n",
    "def get_theta(a):\n",
    "    phi = np.arctan2(a[-1], a[0])\n",
    "    return phi\n",
    "\n",
    "def get_coefficients_radial(feats, years, n_components,coefficients, file, verbose=False):\n",
    "    feats, ratio = get_principal_components(feats,n_components, verbose=verbose)\n",
    "\n",
    "    radial_feats_r = np.apply_along_axis(get_r, 1, np.asarray(feats[:,:2]))\n",
    "    radial_feats_theta = np.apply_along_axis(get_theta, 1, np.asarray(feats[:,:2]))\n",
    "    x = np.expand_dims(radial_feats_theta, axis=0)\n",
    "    y = np.expand_dims(radial_feats_r, axis=0)\n",
    "    ang_feats = np.concatenate((x, y), axis=0)\n",
    "    coefficients = {}\n",
    "    for c in range(n_components):\n",
    "        coefficients.setdefault(file,[]).append(pearsonr(years, ang_feats.T[:, c])[0])        \n",
    "    return pd.DataFrame(coefficients)"
   ]
  },
  {
   "cell_type": "code",
   "execution_count": 8,
   "id": "54d718db",
   "metadata": {
    "scrolled": false
   },
   "outputs": [
    {
     "name": "stdout",
     "output_type": "stream",
     "text": [
      "resnet101_plus2_real.pkl\n",
      "PCC:  [0.06498374]  Radial PCC:  [0.05128971]\n",
      "resnet101_pretrained_real.pkl\n",
      "PCC:  [0.5393042]  Radial PCC:  [0.23968259]\n",
      "resnet50_plus2_real.pkl\n",
      "PCC:  [0.0824481]  Radial PCC:  [0.0521291]\n",
      "resnet50_pretrained_real.pkl\n",
      "PCC:  [0.5432301]  Radial PCC:  [0.24222095]\n",
      "StyleCWAN1_real.pkl\n",
      "PCC:  [0.38887915]  Radial PCC:  [0.1600193]\n",
      "StyleCWAN2_real.pkl\n",
      "PCC:  [0.31629225]  Radial PCC:  [0.11427436]\n",
      "vgg16_plus2_real.pkl\n",
      "PCC:  [0.33889238]  Radial PCC:  [0.13143862]\n",
      "vgg16_pretrained_real.pkl\n",
      "PCC:  [0.52496757]  Radial PCC:  [0.21482059]\n",
      "StyleGAN2_real.pkl\n",
      "PCC:  [0.23529744]  Radial PCC:  [0.10633537]\n",
      "vit_real.pkl\n",
      "PCC:  [0.63141546]  Radial PCC:  [0.30625501]\n",
      "StyleCAN1_real.pkl\n",
      "PCC:  [0.31692972]  Radial PCC:  [0.20750769]\n",
      "StyleCAN2_real.pkl\n",
      "PCC:  [0.30725605]  Radial PCC:  [0.24041198]\n",
      "StyleGAN1_real.pkl\n",
      "PCC:  [0.19523487]  Radial PCC:  [0.10557771]\n"
     ]
    }
   ],
   "source": [
    "folder = './datasets/features/real_art_features'\n",
    "# folder = '/home/khanff/eccv/ViT-pytorch/features/real/'\n",
    "principles = ['Linearly-vs-Painterly', 'Planar-vs-Recessional',\n",
    "       'closed-form-vs-open-form', 'multiplicity-vs-unity',\n",
    "       'absolute-clarity-vs-relative-clarity']\n",
    "table_for_n_components = {}\n",
    "dataframes = {}\n",
    "files = os.listdir(folder)\n",
    "for file in files:\n",
    "    coefficients = {}\n",
    "    p_values = {}\n",
    "    with open(os.path.join(folder, file), 'rb') as f:\n",
    "        feats = pickle.load(f)\n",
    "    coefficient_time = get_coefficients(feats[indexes], years[indexes], 0.95, coefficients, file, False)\n",
    "    radial_coefficient_time = get_coefficients_radial(feats[indexes], years[indexes], 2, coefficients, file, False)\n",
    "    abs_coefficient_time = [abs(i) for i in coefficient_time]\n",
    "    print(file)\n",
    "    print('PCC: ',abs_coefficient_time[0].max().values,' Radial PCC: ',abs(radial_coefficient_time).max().values)  "
   ]
  },
  {
   "cell_type": "code",
   "execution_count": null,
   "id": "06932005",
   "metadata": {},
   "outputs": [],
   "source": []
  }
 ],
 "metadata": {
  "kernelspec": {
   "display_name": "Python 3 (ipykernel)",
   "language": "python",
   "name": "python3"
  },
  "language_info": {
   "codemirror_mode": {
    "name": "ipython",
    "version": 3
   },
   "file_extension": ".py",
   "mimetype": "text/x-python",
   "name": "python",
   "nbconvert_exporter": "python",
   "pygments_lexer": "ipython3",
   "version": "3.7.10"
  }
 },
 "nbformat": 4,
 "nbformat_minor": 5
}

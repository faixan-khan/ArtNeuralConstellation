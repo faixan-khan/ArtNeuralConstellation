{
 "cells": [
  {
   "cell_type": "markdown",
   "id": "7d4dd340",
   "metadata": {},
   "source": [
    "# Emotion distribution of real and generated art. Figure 11 and Figure 12(Left)"
   ]
  },
  {
   "cell_type": "code",
   "execution_count": 1,
   "id": "66a26ac5",
   "metadata": {},
   "outputs": [],
   "source": [
    "import pandas as pd"
   ]
  },
  {
   "cell_type": "markdown",
   "id": "71584d22",
   "metadata": {},
   "source": [
    "### Select from 'real', 'gan2', 'can2', 'cwan1' and 'cwan2' to show the emotion distribution."
   ]
  },
  {
   "cell_type": "code",
   "execution_count": 2,
   "id": "777f1f38",
   "metadata": {},
   "outputs": [],
   "source": [
    "analysis='cwan2'"
   ]
  },
  {
   "cell_type": "code",
   "execution_count": 3,
   "id": "438915c7",
   "metadata": {},
   "outputs": [],
   "source": [
    "if analysis == 'real':\n",
    "    dataset = './datasets/processed/combined_wolfflins_emotions/all_data_combined_wofflin_and_emotion'\n",
    "    emotions = ['amusement', 'anger', 'awe', 'contentment', 'disgust', 'excitement', 'fear', 'sadness', 'something else']\n",
    "elif analysis == 'gan2' or analysis == 'can2':    \n",
    "    dataset = './datasets/raw/emotions_generated.csv'\n",
    "    emotions = ['Amusement', 'Anger', 'Awe', 'Contentment', 'Disgust', 'Excitement', 'Fear', 'Sadness', 'Something Else']\n",
    "elif analysis == 'cwan1':    \n",
    "    dataset = './datasets/raw/gen_emotions_cwan.csv'\n",
    "    emotions = ['Amusement', 'Anger', 'Awe', 'Contentment', 'Disgust', 'Excitement', 'Fear', 'Sadness', 'Something Else']\n",
    "elif analysis == 'cwan2':    \n",
    "    dataset = './datasets/raw/emotions_cwan2.csv'\n",
    "    emotions = ['Amusement', 'Anger', 'Awe', 'Contentment', 'Disgust', 'Excitement', 'Fear', 'Sadness', 'Something Else']"
   ]
  },
  {
   "cell_type": "code",
   "execution_count": 4,
   "id": "aadef360",
   "metadata": {},
   "outputs": [],
   "source": [
    "def select_emotion(row):\n",
    "    index = row[emotions].values.argmax()\n",
    "    return emotions[index]"
   ]
  },
  {
   "cell_type": "code",
   "execution_count": 5,
   "id": "d1a75a60",
   "metadata": {},
   "outputs": [],
   "source": [
    "df = pd.read_csv(dataset)"
   ]
  },
  {
   "cell_type": "code",
   "execution_count": 6,
   "id": "0285dae8",
   "metadata": {},
   "outputs": [],
   "source": [
    "df['selected'] = df.apply(select_emotion, axis=1)"
   ]
  },
  {
   "cell_type": "code",
   "execution_count": 7,
   "id": "8955b9eb",
   "metadata": {},
   "outputs": [],
   "source": [
    "def select_type(row):\n",
    "    name = row['art_url'].split('/')[-2]\n",
    "    return name"
   ]
  },
  {
   "cell_type": "code",
   "execution_count": 8,
   "id": "895463e4",
   "metadata": {},
   "outputs": [],
   "source": [
    "if analysis == 'cwan1':\n",
    "    df['type'] = df.apply(select_type, axis=1)    "
   ]
  },
  {
   "cell_type": "code",
   "execution_count": 9,
   "id": "f756a80f",
   "metadata": {},
   "outputs": [],
   "source": [
    "if analysis == 'gan2':\n",
    "    df = df[df['type'] == 'StyleGAN2']\n",
    "if analysis == 'can2':\n",
    "    df = df[df['type'] == 'StyleCAN2']\n",
    "if analysis == 'cwan1':\n",
    "    df = df[df['type'] == 'cwan1']"
   ]
  },
  {
   "cell_type": "code",
   "execution_count": 10,
   "id": "dd59dfd0",
   "metadata": {},
   "outputs": [
    {
     "data": {
      "text/plain": [
       "Excitement        0.2175\n",
       "Contentment       0.1935\n",
       "Awe               0.1640\n",
       "Fear              0.1260\n",
       "Amusement         0.0850\n",
       "Disgust           0.0850\n",
       "Something Else    0.0530\n",
       "Sadness           0.0480\n",
       "Anger             0.0280\n",
       "Name: selected, dtype: float64"
      ]
     },
     "execution_count": 10,
     "metadata": {},
     "output_type": "execute_result"
    }
   ],
   "source": [
    "df['selected'].value_counts()/df['selected'].value_counts().sum()"
   ]
  },
  {
   "cell_type": "code",
   "execution_count": 11,
   "id": "0b6f8aa3",
   "metadata": {
    "scrolled": true
   },
   "outputs": [
    {
     "data": {
      "text/plain": [
       "<AxesSubplot:>"
      ]
     },
     "execution_count": 11,
     "metadata": {},
     "output_type": "execute_result"
    },
    {
     "data": {
      "image/png": "[encoded data removed]",
      "text/plain": [
       "<Figure size 432x288 with 1 Axes>"
      ]
     },
     "metadata": {
      "needs_background": "light"
     },
     "output_type": "display_data"
    }
   ],
   "source": [
    "df['selected'].value_counts().plot(kind='bar')"
   ]
  },
  {
   "cell_type": "markdown",
   "id": "891c4a8d",
   "metadata": {},
   "source": [
    "### The plot generated using the values above can be found [here](https://public.flourish.studio/visualisation/9580090/)."
   ]
  },
  {
   "cell_type": "markdown",
   "id": "914efd5f",
   "metadata": {},
   "source": [
    "### The plot for polar chart can be found [here](https://public.flourish.studio/visualisation/9862563/)"
   ]
  },
  {
   "cell_type": "code",
   "execution_count": null,
   "id": "795ed73d",
   "metadata": {},
   "outputs": [],
   "source": []
  }
 ],
 "metadata": {
  "kernelspec": {
   "display_name": "Python 3 (ipykernel)",
   "language": "python",
   "name": "python3"
  },
  "language_info": {
   "codemirror_mode": {
    "name": "ipython",
    "version": 3
   },
   "file_extension": ".py",
   "mimetype": "text/x-python",
   "name": "python",
   "nbconvert_exporter": "python",
   "pygments_lexer": "ipython3",
   "version": "3.7.10"
  }
 },
 "nbformat": 4,
 "nbformat_minor": 5
}

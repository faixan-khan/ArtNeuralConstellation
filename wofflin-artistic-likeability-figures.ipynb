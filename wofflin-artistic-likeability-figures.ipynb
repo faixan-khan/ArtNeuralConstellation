{
 "cells": [
  {
   "cell_type": "markdown",
   "id": "85adef49",
   "metadata": {},
   "source": [
    "# For likeability experiment and turing test"
   ]
  },
  {
   "cell_type": "code",
   "execution_count": 2,
   "id": "0eba4d6c",
   "metadata": {},
   "outputs": [],
   "source": [
    "from PIL import Image\n",
    "import os\n",
    "import pandas as pd\n",
    "import sys\n",
    "import random\n",
    "import numpy as np"
   ]
  },
  {
   "cell_type": "code",
   "execution_count": 3,
   "id": "cc768e3e",
   "metadata": {},
   "outputs": [],
   "source": [
    "csv_dir = './datasets/processed/likeability'\n",
    "csv_files = os.listdir(csv_dir)\n",
    "csvs = {k:pd.read_csv(os.path.join(csv_dir, k)) for k in csv_files}"
   ]
  },
  {
   "cell_type": "code",
   "execution_count": 4,
   "id": "f9923935",
   "metadata": {},
   "outputs": [],
   "source": [
    "to_keep = ['highest_NN_dist', 'lowest_NN_dist', 'highest_shape_entropy', 'random']"
   ]
  },
  {
   "cell_type": "code",
   "execution_count": 5,
   "id": "564f4225",
   "metadata": {},
   "outputs": [],
   "source": [
    "files = ['StyleGAN1.csv', 'StyleCAN1.csv', 'StyleGAN2.csv', 'StyleCAN2.csv', 'StyleCWAN1.csv', 'StyleCWAN2.csv']"
   ]
  },
  {
   "cell_type": "markdown",
   "id": "baf2b3c8",
   "metadata": {},
   "source": [
    "### Table 7"
   ]
  },
  {
   "cell_type": "code",
   "execution_count": 6,
   "id": "85e7c1c3",
   "metadata": {
    "scrolled": true
   },
   "outputs": [
    {
     "name": "stdout",
     "output_type": "stream",
     "text": [
      "StyleGAN1.csv\n",
      "highest_NN_dist :  [3.0695]\n",
      "lowest_NN_dist :  [3.367]\n",
      "highest_shape_entropy :  [3.002]\n",
      "random :  [3.067]\n",
      "Turing Score:  0.553125\n",
      "Mean Score: 3.1263750000000003\n",
      "Score Std:  0.5899518772057144\n",
      "StyleCAN1.csv\n",
      "highest_NN_dist :  [3.0175]\n",
      "lowest_NN_dist :  [3.6185]\n",
      "highest_shape_entropy :  [3.054]\n",
      "random :  [3.117]\n",
      "Turing Score:  0.5655449522852838\n",
      "Mean Score: 3.201204214751631\n",
      "Score Std:  1.140773426665542\n",
      "StyleGAN2.csv\n",
      "highest_NN_dist :  [2.8955]\n",
      "lowest_NN_dist :  [3.309]\n",
      "highest_shape_entropy :  [2.794]\n",
      "random :  [3.09]\n",
      "Turing Score:  0.538\n",
      "Mean Score: 3.022125\n",
      "Score Std:  0.6715409280036415\n",
      "StyleCAN2.csv\n",
      "highest_NN_dist :  [3.268]\n",
      "lowest_NN_dist :  [3.3445]\n",
      "highest_shape_entropy :  [3.1125]\n",
      "random :  [3.2095]\n",
      "Turing Score:  0.577\n",
      "Mean Score: 3.233625\n",
      "Score Std:  0.6124546184860168\n",
      "StyleCWAN1.csv\n",
      "highest_NN_dist :  [3.1555]\n",
      "lowest_NN_dist :  [3.673]\n",
      "highest_shape_entropy :  [3.1525]\n",
      "random :  [3.179]\n",
      "Turing Score:  0.5863110216406643\n",
      "Mean Score: 3.2913108990457056\n",
      "Score Std:  1.1255461384705094\n",
      "StyleCWAN2.csv\n",
      "highest_NN_dist :  [3.299]\n",
      "lowest_NN_dist :  [3.61]\n",
      "highest_shape_entropy :  [3.3305]\n",
      "random :  [3.3565]\n",
      "Turing Score:  0.6400201106083458\n",
      "Mean Score: 3.399298597194389\n",
      "Score Std:  1.1065444458061306\n"
     ]
    }
   ],
   "source": [
    "for file in files:\n",
    "    print(file)\n",
    "    if file == 'StyleGAN2.csv' or file == 'StyleCAN2.csv':\n",
    "        name = 'Input.image'\n",
    "        col =  'Input.mean'\n",
    "        turing = 'Input.is_generated_by_artist'\n",
    "    else:\n",
    "        name = 'Input.kn_img_url'\n",
    "        col =  'Answer.Q1_answer'\n",
    "        turing = 'Answer.Q2_answer'\n",
    "    for grp in to_keep:\n",
    "        mean_rating = csvs[file][[name,col]].groupby(name).mean().filter(like=grp,axis=0).sort_values(by=col,ascending=True).mean()\n",
    "        print(grp,': ', mean_rating.values)\n",
    "    print('Turing Score: ',csvs[file][turing].mean())\n",
    "    print('Mean Score:',csvs[file][col].mean())\n",
    "    print('Score Std: ',csvs[file][col].std())"
   ]
  },
  {
   "cell_type": "markdown",
   "id": "cdc9e8b6",
   "metadata": {},
   "source": [
    "# Images selected for the figure, asc is used to get least and most likeable and artisitic figures. To view the most and least likeable image from all 4 groups, change the index of to_keep from 0 - 3. For Turing test, change 'col' variable to 'turing'"
   ]
  },
  {
   "cell_type": "code",
   "execution_count": 7,
   "id": "4ca0ce11",
   "metadata": {},
   "outputs": [],
   "source": [
    "acs=True"
   ]
  },
  {
   "cell_type": "markdown",
   "id": "09913714",
   "metadata": {},
   "source": [
    "### For turing test, change col to turing\n",
    "#### csvs[files[2]][[name,turing]].groupby(name).mean().filter(like=to_keep[0],axis=0).sort_values(by=turing,ascending=acs)"
   ]
  },
  {
   "cell_type": "code",
   "execution_count": 9,
   "id": "32e74a7a",
   "metadata": {},
   "outputs": [
    {
     "data": {
      "text/html": [
       "<div>\n",
       "<style scoped>\n",
       "    .dataframe tbody tr th:only-of-type {\n",
       "        vertical-align: middle;\n",
       "    }\n",
       "\n",
       "    .dataframe tbody tr th {\n",
       "        vertical-align: top;\n",
       "    }\n",
       "\n",
       "    .dataframe thead th {\n",
       "        text-align: right;\n",
       "    }\n",
       "</style>\n",
       "<table border=\"1\" class=\"dataframe\">\n",
       "  <thead>\n",
       "    <tr style=\"text-align: right;\">\n",
       "      <th></th>\n",
       "      <th>Answer.Q1_answer</th>\n",
       "    </tr>\n",
       "    <tr>\n",
       "      <th>Input.kn_img_url</th>\n",
       "      <th></th>\n",
       "    </tr>\n",
       "  </thead>\n",
       "  <tbody>\n",
       "    <tr>\n",
       "      <th>https://crw2020.s3-us-west-2.amazonaws.com/styleGAN-human-eval/CAN/highest_NN_dist1503.png</th>\n",
       "      <td>1.4</td>\n",
       "    </tr>\n",
       "    <tr>\n",
       "      <th>https://crw2020.s3-us-west-2.amazonaws.com/styleGAN-human-eval/CAN/highest_NN_dist530.png</th>\n",
       "      <td>2.0</td>\n",
       "    </tr>\n",
       "    <tr>\n",
       "      <th>https://crw2020.s3-us-west-2.amazonaws.com/styleGAN-human-eval/CAN/highest_NN_dist869.png</th>\n",
       "      <td>2.0</td>\n",
       "    </tr>\n",
       "    <tr>\n",
       "      <th>https://crw2020.s3-us-west-2.amazonaws.com/styleGAN-human-eval/CAN/highest_NN_dist131.png</th>\n",
       "      <td>2.2</td>\n",
       "    </tr>\n",
       "    <tr>\n",
       "      <th>https://crw2020.s3-us-west-2.amazonaws.com/styleGAN-human-eval/CAN/highest_NN_dist1432.png</th>\n",
       "      <td>2.2</td>\n",
       "    </tr>\n",
       "    <tr>\n",
       "      <th>...</th>\n",
       "      <td>...</td>\n",
       "    </tr>\n",
       "    <tr>\n",
       "      <th>https://crw2020.s3-us-west-2.amazonaws.com/styleGAN-human-eval/CAN/highest_NN_dist140.png</th>\n",
       "      <td>3.8</td>\n",
       "    </tr>\n",
       "    <tr>\n",
       "      <th>https://crw2020.s3-us-west-2.amazonaws.com/styleGAN-human-eval/CAN/highest_NN_dist949.png</th>\n",
       "      <td>3.8</td>\n",
       "    </tr>\n",
       "    <tr>\n",
       "      <th>https://crw2020.s3-us-west-2.amazonaws.com/styleGAN-human-eval/CAN/highest_NN_dist1437.png</th>\n",
       "      <td>3.8</td>\n",
       "    </tr>\n",
       "    <tr>\n",
       "      <th>https://crw2020.s3-us-west-2.amazonaws.com/styleGAN-human-eval/CAN/highest_NN_dist1836.png</th>\n",
       "      <td>4.0</td>\n",
       "    </tr>\n",
       "    <tr>\n",
       "      <th>https://crw2020.s3-us-west-2.amazonaws.com/styleGAN-human-eval/CAN/highest_NN_dist847.png</th>\n",
       "      <td>4.0</td>\n",
       "    </tr>\n",
       "  </tbody>\n",
       "</table>\n",
       "<p>100 rows × 1 columns</p>\n",
       "</div>"
      ],
      "text/plain": [
       "                                                    Answer.Q1_answer\n",
       "Input.kn_img_url                                                    \n",
       "https://crw2020.s3-us-west-2.amazonaws.com/styl...               1.4\n",
       "https://crw2020.s3-us-west-2.amazonaws.com/styl...               2.0\n",
       "https://crw2020.s3-us-west-2.amazonaws.com/styl...               2.0\n",
       "https://crw2020.s3-us-west-2.amazonaws.com/styl...               2.2\n",
       "https://crw2020.s3-us-west-2.amazonaws.com/styl...               2.2\n",
       "...                                                              ...\n",
       "https://crw2020.s3-us-west-2.amazonaws.com/styl...               3.8\n",
       "https://crw2020.s3-us-west-2.amazonaws.com/styl...               3.8\n",
       "https://crw2020.s3-us-west-2.amazonaws.com/styl...               3.8\n",
       "https://crw2020.s3-us-west-2.amazonaws.com/styl...               4.0\n",
       "https://crw2020.s3-us-west-2.amazonaws.com/styl...               4.0\n",
       "\n",
       "[100 rows x 1 columns]"
      ]
     },
     "execution_count": 9,
     "metadata": {},
     "output_type": "execute_result"
    }
   ],
   "source": [
    "csvs[files[1]][[name,col]].groupby(name).mean().filter(like=to_keep[0],axis=0).sort_values(by=col,ascending=acs)"
   ]
  },
  {
   "cell_type": "markdown",
   "id": "bb7875c3",
   "metadata": {},
   "source": [
    "## Likeability per emotion"
   ]
  },
  {
   "cell_type": "markdown",
   "id": "e983f9b2",
   "metadata": {},
   "source": [
    "### select files from the follwing 'StyleGAN2.csv', 'StyleCAN2.csv', 'StyleCWAN1.csv', and 'StyleCWAN2.csv' "
   ]
  },
  {
   "cell_type": "code",
   "execution_count": 10,
   "id": "1445c07b",
   "metadata": {},
   "outputs": [],
   "source": [
    "file = 'StyleGAN2.csv'"
   ]
  },
  {
   "cell_type": "code",
   "execution_count": 11,
   "id": "78e3e534",
   "metadata": {},
   "outputs": [],
   "source": [
    "if file == 'StyleCWAN1.csv':\n",
    "    dataset = './datasets/raw/gen_emotions_cwan.csv'\n",
    "    emo_csv = pd.read_csv(dataset)       \n",
    "if file == 'StyleCWAN2.csv':\n",
    "    dataset = './datasets/raw/emotions_cwan2.csv'\n",
    "    emo_csv = pd.read_csv(dataset)   "
   ]
  },
  {
   "cell_type": "code",
   "execution_count": 12,
   "id": "d9b47526",
   "metadata": {},
   "outputs": [],
   "source": [
    "if file == 'StyleCWAN1.csv' or file =='StyleCWAN2.csv':\n",
    "    name = 'Input.kn_img_url'\n",
    "    col =  'Answer.Q1_answer'\n",
    "else:\n",
    "    name = 'Input.image'\n",
    "    col =  'Input.mean'"
   ]
  },
  {
   "cell_type": "code",
   "execution_count": 13,
   "id": "05e8c33c",
   "metadata": {},
   "outputs": [],
   "source": [
    "def get_name_emo(row):\n",
    "    name = row['art_url'].split('/')[-1]\n",
    "    return name\n",
    "\n",
    "def get_name_like(row):\n",
    "    name = row['Input.kn_img_url'].split('/')[-1]\n",
    "    return name"
   ]
  },
  {
   "cell_type": "code",
   "execution_count": 14,
   "id": "a7a5cf2b",
   "metadata": {},
   "outputs": [],
   "source": [
    "if file == 'StyleCWAN1.csv':\n",
    "    emo_csv = emo_csv[emo_csv['art_url'].str.contains('cwan1') == True]\n",
    "if file == 'StyleCWAN2.csv':\n",
    "    emo_csv = emo_csv[emo_csv['art_url'].str.contains('sg2') == True]"
   ]
  },
  {
   "cell_type": "code",
   "execution_count": 15,
   "id": "527250bb",
   "metadata": {},
   "outputs": [],
   "source": [
    "if file == 'StyleCWAN1.csv' or file =='StyleCWAN2.csv':\n",
    "    emo_csv['name'] = emo_csv.apply(get_name_emo, axis=1)\n",
    "    csvs[file]['name'] = csvs[file].apply(get_name_like, axis=1)\n",
    "    emo_csv_temp = emo_csv.groupby('name').mean()\n",
    "    csvs_temp = csvs[file].groupby('name').mean()\n",
    "    df_comb = pd.merge(csvs_temp, emo_csv_temp, on='name')"
   ]
  },
  {
   "cell_type": "code",
   "execution_count": 16,
   "id": "f0732d65",
   "metadata": {},
   "outputs": [],
   "source": [
    "if file == 'StyleCWAN1.csv' or file =='StyleCWAN2.csv':\n",
    "    e1, e2, e3, e4, e5, e6, e7, e8, e9 = ['Amusement', 'Anger', 'Awe', 'Contentment', 'Disgust', 'Excitement', 'Fear', 'Sadness', 'Something Else']\n",
    "else:\n",
    "    e1, e2, e3, e4, e5, e6, e7, e8, e9 = 'Answer.choice.Amusement','Answer.choice.Anger', 'Answer.choice.Awe', 'Answer.choice.Contentment', 'Answer.choice.Disgust', 'Answer.choice.Excitement','Answer.choice.Fear', 'Answer.choice.Sadness','Answer.choice.Something Else'"
   ]
  },
  {
   "cell_type": "code",
   "execution_count": 17,
   "id": "9cd5541e",
   "metadata": {},
   "outputs": [
    {
     "name": "stdout",
     "output_type": "stream",
     "text": [
      "Answer.choice.Amusement :  2.9603174603174605\n",
      "Answer.choice.Anger :  2.764705882352941\n",
      "Answer.choice.Awe :  3.1650826446280993\n",
      "Answer.choice.Contentment :  3.29760348583878\n",
      "Answer.choice.Disgust :  2.708387096774193\n",
      "Answer.choice.Excitement :  3.180891719745223\n",
      "Answer.choice.Fear :  2.86984126984127\n",
      "Answer.choice.Sadness :  2.914840182648402\n",
      "Answer.choice.Something Else :  2.8592391304347826\n"
     ]
    }
   ],
   "source": [
    "sel_emo = [e1, e2, e3, e4, e5, e6, e7, e8, e9]\n",
    "if file == 'StyleCWAN1.csv' or file =='StyleCWAN2.csv':\n",
    "    for i in sel_emo:\n",
    "        print(i,': ',df_comb[[i, col]][df_comb[[i, col]][i]!=0].mean().values[1])\n",
    "else:\n",
    "    for i in sel_emo:\n",
    "        print(i,': ',csvs[file][[i, col]][csvs[file][[i, col]][i]!=0].mean().values[1])        "
   ]
  },
  {
   "cell_type": "markdown",
   "id": "2c7c7bdf",
   "metadata": {},
   "source": [
    "### The polar chart from Figure 12 can be found [here](https://public.flourish.studio/visualisation/10095550/)."
   ]
  },
  {
   "cell_type": "code",
   "execution_count": null,
   "id": "b2aa686d",
   "metadata": {},
   "outputs": [],
   "source": []
  }
 ],
 "metadata": {
  "kernelspec": {
   "display_name": "Python 3 (ipykernel)",
   "language": "python",
   "name": "python3"
  },
  "language_info": {
   "codemirror_mode": {
    "name": "ipython",
    "version": 3
   },
   "file_extension": ".py",
   "mimetype": "text/x-python",
   "name": "python",
   "nbconvert_exporter": "python",
   "pygments_lexer": "ipython3",
   "version": "3.7.10"
  }
 },
 "nbformat": 4,
 "nbformat_minor": 5
}

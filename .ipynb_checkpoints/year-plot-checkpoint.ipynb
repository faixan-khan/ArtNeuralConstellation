{
 "cells": [
  {
   "cell_type": "markdown",
   "id": "28350dc2",
   "metadata": {},
   "source": [
    "# To plot the year for generated art. "
   ]
  },
  {
   "cell_type": "code",
   "execution_count": 1,
   "id": "1571d7c8",
   "metadata": {},
   "outputs": [],
   "source": [
    "import pickle\n",
    "import numpy as np\n",
    "from scipy.io import loadmat\n",
    "from sklearn.decomposition import PCA, FastICA\n",
    "from sklearn.manifold import LocallyLinearEmbedding\n",
    "import os\n",
    "import re\n",
    "import pandas as pd\n",
    "from scipy.stats import pearsonr\n",
    "from pathlib import Path\n",
    "pd.set_option(\"display.max_rows\", None, \"display.max_columns\", None)"
   ]
  },
  {
   "cell_type": "code",
   "execution_count": 2,
   "id": "6c599bb1",
   "metadata": {},
   "outputs": [],
   "source": [
    "mat_file = loadmat('./datasets/processed/groundtruth_pruned.mat')"
   ]
  },
  {
   "cell_type": "code",
   "execution_count": 3,
   "id": "e1982fe6",
   "metadata": {},
   "outputs": [],
   "source": [
    "years = []\n",
    "re_string = '[0-9][0-9][0-9][0-9]\\.'\n",
    "for m in mat_file['groundtruth_pruned'][0][0][0]:\n",
    "    text = re.findall(re_string, m[0][0])\n",
    "    if text != []:\n",
    "        year = int(text[0][:-1])\n",
    "        if year < 1400 or year > 2010:\n",
    "            years.append(np.nan)\n",
    "        else:\n",
    "            years.append(int(year))\n",
    "    else:\n",
    "        years.append(np.nan)\n",
    "#         print(\"XXXX\")\n",
    "\n",
    "years = np.array(years)\n",
    "indexes = ~np.isnan(years)"
   ]
  },
  {
   "cell_type": "code",
   "execution_count": 4,
   "id": "729a6ba2",
   "metadata": {},
   "outputs": [
    {
     "name": "stdout",
     "output_type": "stream",
     "text": [
      "Average year for real art:  1869.7717107241149\n"
     ]
    }
   ],
   "source": [
    "print('Average year for real art: ',years[indexes].mean())"
   ]
  },
  {
   "cell_type": "code",
   "execution_count": 5,
   "id": "0a55bb4d",
   "metadata": {},
   "outputs": [],
   "source": [
    "df_1k = pd.read_csv('./datasets/processed/combined_wofflins_real.csv')\n",
    "df_5k = pd.read_csv('./datasets/processed/real_wofflin_scores_combined_normalised.csv')\n",
    "combined = [df_1k, df_5k]\n",
    "df = pd.concat(combined)"
   ]
  },
  {
   "cell_type": "code",
   "execution_count": 6,
   "id": "f257f599",
   "metadata": {},
   "outputs": [],
   "source": [
    "df['name'] = df['Input.image'].apply(lambda x: Path(x).name)\n",
    "\n",
    "def get_year(row):\n",
    "    try:\n",
    "        y = int(row['name'].split('.')[0].split('-')[-1])\n",
    "        if int(y) < 1400:\n",
    "            y = None  \n",
    "        if int(y) > 2000:\n",
    "            y = None \n",
    "    except ValueError:\n",
    "        y = None\n",
    "        \n",
    "    return y"
   ]
  },
  {
   "cell_type": "code",
   "execution_count": 7,
   "id": "2e9210b5",
   "metadata": {},
   "outputs": [],
   "source": [
    "df['year'] = df.apply(get_year, axis=1)"
   ]
  },
  {
   "cell_type": "code",
   "execution_count": 8,
   "id": "b8c9219b",
   "metadata": {},
   "outputs": [
    {
     "data": {
      "text/html": [
       "<div>\n",
       "<style scoped>\n",
       "    .dataframe tbody tr th:only-of-type {\n",
       "        vertical-align: middle;\n",
       "    }\n",
       "\n",
       "    .dataframe tbody tr th {\n",
       "        vertical-align: top;\n",
       "    }\n",
       "\n",
       "    .dataframe thead th {\n",
       "        text-align: right;\n",
       "    }\n",
       "</style>\n",
       "<table border=\"1\" class=\"dataframe\">\n",
       "  <thead>\n",
       "    <tr style=\"text-align: right;\">\n",
       "      <th></th>\n",
       "      <th>Input.image</th>\n",
       "      <th>Linearly-vs-Painterly</th>\n",
       "      <th>Planar-vs-Recessional</th>\n",
       "      <th>closed-form-vs-open-form</th>\n",
       "      <th>multiplicity-vs-unity</th>\n",
       "      <th>absolute-clarity-vs-relative-clarity</th>\n",
       "      <th>Unnamed: 0</th>\n",
       "      <th>name</th>\n",
       "      <th>year</th>\n",
       "    </tr>\n",
       "  </thead>\n",
       "  <tbody>\n",
       "    <tr>\n",
       "      <th>223</th>\n",
       "      <td>https://crw2020.s3-us-west-2.amazonaws.com/ran...</td>\n",
       "      <td>0.35</td>\n",
       "      <td>0.85</td>\n",
       "      <td>0.65</td>\n",
       "      <td>0.5</td>\n",
       "      <td>0.60</td>\n",
       "      <td>NaN</td>\n",
       "      <td>161_not_detected_251590.jpg!Blog.jpg</td>\n",
       "      <td>NaN</td>\n",
       "    </tr>\n",
       "    <tr>\n",
       "      <th>985</th>\n",
       "      <td>https://crw2020.s3-us-west-2.amazonaws.com/ran...</td>\n",
       "      <td>0.50</td>\n",
       "      <td>0.55</td>\n",
       "      <td>0.75</td>\n",
       "      <td>0.5</td>\n",
       "      <td>0.75</td>\n",
       "      <td>985.0</td>\n",
       "      <td>145_not_detected_251621.jpg!Blog.jpg</td>\n",
       "      <td>NaN</td>\n",
       "    </tr>\n",
       "    <tr>\n",
       "      <th>1142</th>\n",
       "      <td>https://crw2020.s3-us-west-2.amazonaws.com/ran...</td>\n",
       "      <td>0.80</td>\n",
       "      <td>0.60</td>\n",
       "      <td>1.00</td>\n",
       "      <td>0.4</td>\n",
       "      <td>0.70</td>\n",
       "      <td>1142.0</td>\n",
       "      <td>160_not_detected_251609.jpg!Blog.jpg</td>\n",
       "      <td>NaN</td>\n",
       "    </tr>\n",
       "  </tbody>\n",
       "</table>\n",
       "</div>"
      ],
      "text/plain": [
       "                                            Input.image  \\\n",
       "223   https://crw2020.s3-us-west-2.amazonaws.com/ran...   \n",
       "985   https://crw2020.s3-us-west-2.amazonaws.com/ran...   \n",
       "1142  https://crw2020.s3-us-west-2.amazonaws.com/ran...   \n",
       "\n",
       "      Linearly-vs-Painterly  Planar-vs-Recessional  closed-form-vs-open-form  \\\n",
       "223                    0.35                   0.85                      0.65   \n",
       "985                    0.50                   0.55                      0.75   \n",
       "1142                   0.80                   0.60                      1.00   \n",
       "\n",
       "      multiplicity-vs-unity  absolute-clarity-vs-relative-clarity  Unnamed: 0  \\\n",
       "223                     0.5                                  0.60         NaN   \n",
       "985                     0.5                                  0.75       985.0   \n",
       "1142                    0.4                                  0.70      1142.0   \n",
       "\n",
       "                                      name  year  \n",
       "223   161_not_detected_251590.jpg!Blog.jpg   NaN  \n",
       "985   145_not_detected_251621.jpg!Blog.jpg   NaN  \n",
       "1142  160_not_detected_251609.jpg!Blog.jpg   NaN  "
      ]
     },
     "execution_count": 8,
     "metadata": {},
     "output_type": "execute_result"
    }
   ],
   "source": [
    "df[df['year'].isna()]"
   ]
  },
  {
   "cell_type": "code",
   "execution_count": 9,
   "id": "608e1308",
   "metadata": {},
   "outputs": [],
   "source": [
    "df.drop(index=[223,985,1142], inplace=True)"
   ]
  },
  {
   "cell_type": "code",
   "execution_count": 10,
   "id": "143e4981",
   "metadata": {},
   "outputs": [],
   "source": [
    "df['year'] = df['year'].astype(int)\n",
    "\n",
    "mat_file = loadmat('./datasets/processed/groundtruth_pruned.mat')\n",
    "files = [Path(f[0][0]).name for f in mat_file['groundtruth_pruned'][0][0][0]]\n",
    "real_indexes = [files.index(f) for f in df.name.values]"
   ]
  },
  {
   "cell_type": "code",
   "execution_count": 11,
   "id": "565adf1b",
   "metadata": {},
   "outputs": [],
   "source": [
    "from sklearn.neighbors import NearestNeighbors"
   ]
  },
  {
   "cell_type": "code",
   "execution_count": 12,
   "id": "09b8e122",
   "metadata": {},
   "outputs": [],
   "source": [
    "model='vit'\n",
    "real_features = './datasets/features/real_art_features/resnet50_pretrained_real.pkl'\n",
    "real_features = './datasets/features/real_art_features/vit_real.pkl'\n",
    "generated_features = ['./datasets/features/generated_art_features/vit_StyleGAN2.pkl',\n",
    "                      './datasets/features/generated_art_features/vit_StyleCAN2.pkl',\n",
    "                      './datasets/features/generated_art_features/vit_StyleCWAN1.pkl',\n",
    "                      './datasets/features/generated_art_features/vit_StyleCWAN2.pkl',\n",
    "                     ]"
   ]
  },
  {
   "cell_type": "code",
   "execution_count": 13,
   "id": "fb6ac599",
   "metadata": {},
   "outputs": [],
   "source": [
    "years = df['year'].values"
   ]
  },
  {
   "cell_type": "code",
   "execution_count": 14,
   "id": "6b3b9475",
   "metadata": {},
   "outputs": [
    {
     "data": {
      "text/plain": [
       "NearestNeighbors(n_jobs=8)"
      ]
     },
     "execution_count": 14,
     "metadata": {},
     "output_type": "execute_result"
    }
   ],
   "source": [
    "with open(real_features, 'rb') as f:\n",
    "    real_feats = pickle.load(f)\n",
    "\n",
    "real_feats = real_feats[real_indexes]\n",
    "neigh = NearestNeighbors(n_neighbors=5,n_jobs=8)\n",
    "neigh.fit(real_feats)"
   ]
  },
  {
   "cell_type": "code",
   "execution_count": 15,
   "id": "4aff95e4",
   "metadata": {
    "scrolled": true
   },
   "outputs": [
    {
     "name": "stdout",
     "output_type": "stream",
     "text": [
      "File:  vit_StyleGAN2.pkl\n",
      "1465 1977\n",
      "1400  -  1450  :  0\n",
      "1450  -  1500  :  7\n",
      "1500  -  1550  :  10\n",
      "1550  -  1600  :  8\n",
      "1600  -  1650  :  17\n",
      "1650  -  1700  :  8\n",
      "1700  -  1750  :  11\n",
      "1750  -  1800  :  20\n",
      "1800  -  1850  :  24\n",
      "1850  -  1900  :  143\n",
      "1900  -  1950  :  119\n",
      "1950  -  2000  :  33\n",
      "Average Year:  1850.4\n",
      "File:  vit_StyleCAN2.pkl\n",
      "1439 1976\n",
      "1400  -  1450  :  1\n",
      "1450  -  1500  :  9\n",
      "1500  -  1550  :  7\n",
      "1550  -  1600  :  10\n",
      "1600  -  1650  :  9\n",
      "1650  -  1700  :  6\n",
      "1700  -  1750  :  10\n",
      "1750  -  1800  :  15\n",
      "1800  -  1850  :  21\n",
      "1850  -  1900  :  107\n",
      "1900  -  1950  :  163\n",
      "1950  -  2000  :  42\n",
      "Average Year:  1863.6575\n",
      "File:  vit_StyleCWAN1.pkl\n",
      "1454 1980\n",
      "1400  -  1450  :  0\n",
      "1450  -  1500  :  7\n",
      "1500  -  1550  :  7\n",
      "1550  -  1600  :  8\n",
      "1600  -  1650  :  5\n",
      "1650  -  1700  :  8\n",
      "1700  -  1750  :  3\n",
      "1750  -  1800  :  15\n",
      "1800  -  1850  :  27\n",
      "1850  -  1900  :  134\n",
      "1900  -  1950  :  146\n",
      "1950  -  2000  :  40\n",
      "Average Year:  1869.9625\n",
      "File:  vit_StyleCWAN2.pkl\n",
      "1439 1976\n",
      "1400  -  1450  :  1\n",
      "1450  -  1500  :  9\n",
      "1500  -  1550  :  7\n",
      "1550  -  1600  :  10\n",
      "1600  -  1650  :  9\n",
      "1650  -  1700  :  6\n",
      "1700  -  1750  :  10\n",
      "1750  -  1800  :  15\n",
      "1800  -  1850  :  21\n",
      "1850  -  1900  :  107\n",
      "1900  -  1950  :  163\n",
      "1950  -  2000  :  42\n",
      "Average Year:  1863.6575\n"
     ]
    }
   ],
   "source": [
    "from scipy import stats\n",
    "import collections\n",
    "\n",
    "for i in generated_features:\n",
    "    print('File: ', i.split('/')[-1])\n",
    "    with open(i, 'rb') as f:\n",
    "        generated_feats = pickle.load(f)\n",
    "    distances,indices = neigh.kneighbors(generated_feats, 5)\n",
    "    average_year=[]\n",
    "    for i in range(distances.shape[0]):\n",
    "        year_1 = years[indices[i]]\n",
    "        year_painting_avg = np.mean(year_1)\n",
    "        average_year.append(year_painting_avg)\n",
    "\n",
    "    np_average_year = np.array(average_year, dtype=np.int32)\n",
    "    print(min(np_average_year),max(np_average_year))\n",
    "    counter=collections.Counter(np_average_year)\n",
    "    my_years=[1400,1450,1500,1550,1600,1650,1700,1750,1800,1850,1900,1950,2000]\n",
    "    all_sum=0\n",
    "    for j in range(len(my_years)-1):\n",
    "        st = my_years[j]\n",
    "        et = my_years[j+1]\n",
    "        ck=0\n",
    "        for i in sorted(counter.items()):\n",
    "            if st <= i[0] < et:\n",
    "                ck+=i[1]\n",
    "            if i[0] >= et:\n",
    "                break\n",
    "        all_sum+=ck\n",
    "        print(st,' - ',et,' : ',ck)\n",
    "    print('Average Year: ',np.mean(np_average_year))    "
   ]
  },
  {
   "cell_type": "markdown",
   "id": "4f566924",
   "metadata": {},
   "source": [
    "## The values have been plotted [here](https://public.flourish.studio/visualisation/9156959/)"
   ]
  },
  {
   "cell_type": "code",
   "execution_count": null,
   "id": "c87beeda",
   "metadata": {},
   "outputs": [],
   "source": []
  }
 ],
 "metadata": {
  "kernelspec": {
   "display_name": "Python 3 (ipykernel)",
   "language": "python",
   "name": "python3"
  },
  "language_info": {
   "codemirror_mode": {
    "name": "ipython",
    "version": 3
   },
   "file_extension": ".py",
   "mimetype": "text/x-python",
   "name": "python",
   "nbconvert_exporter": "python",
   "pygments_lexer": "ipython3",
   "version": "3.7.10"
  }
 },
 "nbformat": 4,
 "nbformat_minor": 5
}
